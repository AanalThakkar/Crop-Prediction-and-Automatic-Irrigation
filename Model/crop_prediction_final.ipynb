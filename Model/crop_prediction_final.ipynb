{
 "metadata": {
  "language_info": {
   "codemirror_mode": {
    "name": "ipython",
    "version": 3
   },
   "file_extension": ".py",
   "mimetype": "text/x-python",
   "name": "python",
   "nbconvert_exporter": "python",
   "pygments_lexer": "ipython3",
   "version": "3.7.4-final"
  },
  "orig_nbformat": 2,
  "kernelspec": {
   "name": "python3",
   "display_name": "Python 3",
   "language": "python"
  }
 },
 "nbformat": 4,
 "nbformat_minor": 2,
 "cells": [
  {
   "cell_type": "code",
   "execution_count": 23,
   "metadata": {},
   "outputs": [
    {
     "output_type": "stream",
     "name": "stdout",
     "text": [
      "   temperature   humidity        ph    rainfall label\n0    20.879744  82.002744  6.502985  202.935536  rice\nThe data present in one row of the dataset is\n   temperature   humidity        ph    rainfall  Black gram  Chickpea  \\\n0    20.879744  82.002744  6.502985  202.935536           0         0   \n\n   Coconut  Coffee  Cotton  Ground Nut  ...  maize  mango  millet  muskmelon  \\\n0        0       0       0           0  ...      0      0       0          0   \n\n   orange  papaya  pomegranate  rice  watermelon  wheat  \n0       0       0            0     1           0      0  \n\n[1 rows x 34 columns]\n       Real Values  Predicted Values\n0                1               1.0\n1                0               0.0\n2                0               0.0\n3                0               0.0\n4                0               0.0\n...            ...               ...\n27895            0               0.0\n27896            0               0.0\n27897            0               0.0\n27898            0               0.0\n27899            0               0.0\n\n[27900 rows x 2 columns]\nThe accuracy of this model is:  0.9096774193548387\n[[0. 0. 0. 0. 0. 0. 0. 0. 0. 0. 0. 0. 0. 0. 0. 0. 0. 0. 0. 0. 0. 0. 0. 0.\n  0. 1. 0. 0. 0. 0.]]\nThe predicted crop is muskmelon\n"
     ]
    }
   ],
   "source": [
    "#importing the required libraries\n",
    "import pandas as pd\n",
    "import numpy as np\n",
    "from sklearn.model_selection import train_test_split\n",
    "\n",
    "#Reading the csv file\n",
    "data=pd.read_csv('cpdata.csv')\n",
    "print(data.head(1))\n",
    "\n",
    "    #Creating dummy variable for target i.e label\n",
    "    label= pd.get_dummies(data.label).iloc[: , 1:]\n",
    "    data= pd.concat([data,label],axis=1)\n",
    "    data.drop('label', axis=1,inplace=True)\n",
    "    print('The data present in one row of the dataset is')\n",
    "    print(data.head(1))\n",
    "train=data.iloc[:, 0:4].values\n",
    "test=data.iloc[: ,4:].values\n",
    "\n",
    "#Dividing the data into training and test set\n",
    "X_train,X_test,y_train,y_test=train_test_split(train,test,test_size=0.3)\n",
    "\n",
    "from sklearn.preprocessing import StandardScaler\n",
    "sc = StandardScaler()\n",
    "X_train = sc.fit_transform(X_train)\n",
    "X_test = sc.transform(X_test)\n",
    "\n",
    "#Importing Decision Tree classifier\n",
    "from sklearn.tree import DecisionTreeRegressor\n",
    "clf=DecisionTreeRegressor()\n",
    "\n",
    "#Fitting the classifier into training set\n",
    "clf.fit(X_train,y_train)\n",
    "pred=clf.predict(X_test)\n",
    "\n",
    "df = pd.DataFrame({'Real Values':y_test.reshape(-1), 'Predicted Values':pred.reshape(-1)})\n",
    "print(df)\n",
    "\n",
    "\n",
    "from sklearn.metrics import accuracy_score\n",
    "# Finding the accuracy of the model\n",
    "a=accuracy_score(y_test,pred)\n",
    "print(\"The accuracy of this model is: \", a)\n",
    "\n",
    "l=[]\n",
    "l.append(15.4138489)\n",
    "l.append(266.98603693)\n",
    "l.append(69.260838965)\n",
    "l.append(50.54876687)\n",
    "predictcrop=[l]\n",
    "\n",
    "# Putting the names of crop in a single list\n",
    "crops=['wheat','mungbean','Tea','millet','maize','lentil','jute','cofee','cotton','ground nut','peas','rubber','sugarcane','tobacco','kidney beans','moth beans','coconut','blackgram','adzuki beans','pigeon peas','chick peas','banana','grapes','apple','mango','muskmelon','orange','papaya','watermelon','pomegranate']\n",
    "cr='rice'\n",
    "\n",
    "#Predicting the crop\n",
    "predictions = clf.predict(predictcrop)\n",
    "print(predictions)\n",
    "count=0\n",
    "for i in range(0,30):\n",
    "    if(predictions[0][i]==1):\n",
    "        c=crops[i]\n",
    "        count=count+1\n",
    "        break\n",
    "    i=i+1\n",
    "if(count==0):\n",
    "    print('The predicted crop is %s'%cr)\n",
    "else:\n",
    "    print('The predicted crop is %s'%c)\n",
    "\n"
   ]
  },
  {
   "cell_type": "code",
   "execution_count": 1,
   "metadata": {},
   "outputs": [
    {
     "output_type": "stream",
     "name": "stdout",
     "text": [
      "0.8935483870967742\n"
     ]
    }
   ],
   "source": [
    "#importing the required libraries\n",
    "import pandas as pd\n",
    "import numpy as np\n",
    "import pickle\n",
    "from sklearn.model_selection import train_test_split\n",
    "\n",
    "#Reading the csv file\n",
    "data=pd.read_csv('cpdata.csv')\n",
    "\n",
    "#Creating dummy variable for target i.e label\n",
    "label= pd.get_dummies(data.label).iloc[: , 1:]\n",
    "data= pd.concat([data,label],axis=1)\n",
    "data.drop('label', axis=1,inplace=True)\n",
    "\n",
    "train=data.iloc[:, 0:4].values\n",
    "test=data.iloc[: ,4:].values\n",
    "\n",
    "#Dividing the data into training and test set\n",
    "X_train,X_test,y_train,y_test=train_test_split(train,test,test_size=0.3)\n",
    "\n",
    "from sklearn.preprocessing import StandardScaler\n",
    "sc = StandardScaler()\n",
    "X_train = sc.fit_transform(X_train)\n",
    "X_test = sc.transform(X_test)\n",
    "\n",
    "#Importing Decision Tree classifier\n",
    "from sklearn.tree import DecisionTreeClassifier\n",
    "clf=DecisionTreeClassifier()\n",
    "\n",
    "#Fitting the classifier into training set\n",
    "clf.fit(X_train,y_train)\n",
    "filename = 'finalized_model.pkl'\n",
    "pickle.dump(clf, open(filename, 'wb'))\n",
    "\n",
    "loaded_model = pickle.load(open(filename, 'rb'))\n",
    "result = loaded_model.score(X_test, y_test)\n",
    "print(result)"
   ]
  },
  {
   "cell_type": "code",
   "execution_count": null,
   "metadata": {},
   "outputs": [],
   "source": []
  }
 ]
}